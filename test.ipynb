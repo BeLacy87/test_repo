{
 "cells": [
  {
   "cell_type": "code",
   "execution_count": 1,
   "metadata": {},
   "outputs": [
    {
     "name": "stdout",
     "output_type": "stream",
     "text": [
      "Good morning\n"
     ]
    }
   ],
   "source": [
    "print('Good morning')"
   ]
  },
  {
   "cell_type": "code",
   "execution_count": null,
   "metadata": {},
   "outputs": [],
   "source": [
    "import pandas as pd\n",
    "import os\n",
    "from pandas import ExcelWriter\n",
    "from pandas import ExcelFile\n",
    "\n",
    "import matplotlib.pyplot as plt"
   ]
  },
  {
   "cell_type": "code",
   "execution_count": null,
   "metadata": {},
   "outputs": [],
   "source": [
    "#import xlsx and read each worksheet as a separate df\n",
    "csvpath = os.path.join(\"..\", \"member_info.xlsx\")\n",
    "xlsx = pd.ExcelFile(csvpath)\n",
    "gup_members_df = pd.read_excel(xlsx, 'Gup Members')\n",
    "gup_tests_df = pd.read_excel(xlsx, 'Gup Tests')\n",
    "dan_members_df = pd.read_excel(xlsx, 'Dan Members')\n",
    "dan_promotion_df = pd.read_excel(xlsx, 'Dan Promotion')\n",
    "studio_df = pd.read_excel(xlsx, 'Studio')"
   ]
  }
 ],
 "metadata": {
  "kernelspec": {
   "display_name": "Python 3",
   "language": "python",
   "name": "python3"
  },
  "language_info": {
   "codemirror_mode": {
    "name": "ipython",
    "version": 3
   },
   "file_extension": ".py",
   "mimetype": "text/x-python",
   "name": "python",
   "nbconvert_exporter": "python",
   "pygments_lexer": "ipython3",
   "version": "3.7.2"
  }
 },
 "nbformat": 4,
 "nbformat_minor": 2
}
